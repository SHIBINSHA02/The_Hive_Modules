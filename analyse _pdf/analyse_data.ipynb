{
 "cells": [
  {
   "cell_type": "code",
   "execution_count": null,
   "id": "ef53014a",
   "metadata": {},
   "outputs": [],
   "source": [
    "# c:\\coding stuff\\Programming_Stuff\\Web_Development\\The_Hive_Modules\\analyse _pdf\\analyse_data.ipynb\n"
   ]
  },
  {
   "cell_type": "code",
   "execution_count": null,
   "id": "9478fff8",
   "metadata": {},
   "outputs": [],
   "source": []
  },
  {
   "cell_type": "code",
   "execution_count": null,
   "id": "ba9f5c33",
   "metadata": {},
   "outputs": [],
   "source": []
  },
  {
   "cell_type": "code",
   "execution_count": null,
   "id": "5f9746cd",
   "metadata": {},
   "outputs": [],
   "source": []
  },
  {
   "cell_type": "code",
   "execution_count": null,
   "id": "2f0622c3",
   "metadata": {},
   "outputs": [],
   "source": []
  },
  {
   "cell_type": "code",
   "execution_count": null,
   "id": "f6f76506",
   "metadata": {},
   "outputs": [],
   "source": []
  },
  {
   "cell_type": "code",
   "execution_count": null,
   "id": "966df65b",
   "metadata": {},
   "outputs": [],
   "source": []
  },
  {
   "cell_type": "code",
   "execution_count": null,
   "id": "9a6da8d6",
   "metadata": {},
   "outputs": [],
   "source": []
  },
  {
   "cell_type": "code",
   "execution_count": null,
   "id": "650e57ee",
   "metadata": {},
   "outputs": [],
   "source": []
  },
  {
   "cell_type": "code",
   "execution_count": null,
   "id": "f70de29b",
   "metadata": {},
   "outputs": [],
   "source": [
    "# c:\\coding stuff\\Programming_Stuff\\Web_Development\\The_Hive_Modules\\analyse _pdf\\analyse_data.ipynb\n"
   ]
  },
  {
   "cell_type": "code",
   "execution_count": null,
   "id": "4b80ba56",
   "metadata": {},
   "outputs": [],
   "source": []
  },
  {
   "cell_type": "code",
   "execution_count": null,
   "id": "4aeb7720",
   "metadata": {},
   "outputs": [],
   "source": [
    "# c:\\coding stuff\\Programming_Stuff\\Web_Development\\The_Hive_Modules\\analyse _pdf\\analyse_data.ipynb\n"
   ]
  },
  {
   "cell_type": "code",
   "execution_count": null,
   "id": "0a91620e",
   "metadata": {},
   "outputs": [],
   "source": [
    "# c:\\coding stuff\\Programming_Stuff\\Web_Development\\The_Hive_Modules\\analyse _pdf\\analyse_data.ipynb\n"
   ]
  }
 ],
 "metadata": {
  "language_info": {
   "name": "python"
  }
 },
 "nbformat": 4,
 "nbformat_minor": 5
}
